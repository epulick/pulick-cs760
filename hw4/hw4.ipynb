{
 "cells": [
  {
   "cell_type": "code",
   "execution_count": 3,
   "metadata": {},
   "outputs": [],
   "source": [
    "# Eric Pulick CS760 HW4\n",
    "import numpy as np\n",
    "import matplotlib.pyplot as plt\n",
    "import itertools\n",
    "\n",
    "def readfile(fp):\n",
    "    with open(fp) as f:\n",
    "        raw=f.read()\n",
    "    char_count = len(raw)\n",
    "    \n",
    "    ref_char = ['a','b','c','d','e','f','g','h',\n",
    "                'i','j','k','l','m','n','o','p',\n",
    "                'q','r','s','t','u','v','w','x',\n",
    "                'y','z',' ']\n",
    "    x = np.empty(len(ref_char))\n",
    "    for i,ch in enumerate(ref_char):\n",
    "        x[i]=raw.count(ch)\n",
    "    y = fp.split('/')[1][0]\n",
    "    return x,y\n",
    "\n",
    "def build_model(train_num):\n",
    "    prefix = \"languageID/\"\n",
    "    train_label = ['e','j','s']\n",
    "    x_list = []\n",
    "    train_y = []\n",
    "    for label in train_label:\n",
    "        for num in train_num:\n",
    "            fp = prefix+label+str(num)+\".txt\"\n",
    "            x,y = readfile(fp)\n",
    "            x_list.append(x)\n",
    "            train_y.append(y)\n",
    "    train_x = np.stack(x_list)\n",
    "    return train_x,train_y\n",
    "\n",
    "def calc_probs(train_x,train_y,param):\n",
    "    prior = np.empty(3)\n",
    "    class_cond = np.empty((3,27))\n",
    "    n = len(train_y)\n",
    "    for i,label in enumerate(['e','j','s']):\n",
    "        #print(label)\n",
    "        prior[i] = (train_y.count(label)+param)/(n+3*param)\n",
    "        locs = np.where(np.array(train_y)==label)[0]\n",
    "        #print(locs)\n",
    "        subset_x = train_x[locs]\n",
    "        #print(subset_x)\n",
    "        #print(np.sum(subset_x,axis=0))\n",
    "        #print(np.sum(subset_x))\n",
    "        class_cond[i] = (np.sum(subset_x,axis=0)+param)/(np.sum(subset_x)+27*param)\n",
    "    return prior,class_cond\n",
    "\n",
    "def make_pred(prior,class_cond,x):\n",
    "    x_given_y = np.empty(3)\n",
    "    for i in range(3):\n",
    "        logs = np.log(class_cond[i])\n",
    "        x_given_y[i]=np.sum(np.multiply(logs,x))\n",
    "    posterior = np.log(prior)+x_given_y\n",
    "    #print(\"Posterior: \",posterior)\n",
    "    pred = np.argmin(-1*posterior)\n",
    "    #print(\"argmin: \",np.argmin(-1*posterior))\n",
    "    return pred\n",
    "\n",
    "def run_test(prior,class_cond):\n",
    "    translate = {\"e\":0,\"j\":1,\"s\":2}\n",
    "    test_num = list(range(10,20))   \n",
    "    test_label = ['e','j','s']\n",
    "    prefix = \"languageID/\"\n",
    "    cm = np.zeros((3,3))\n",
    "\n",
    "    for label in test_label:\n",
    "        for num in test_num:\n",
    "            fp = prefix+label+str(num)+\".txt\"\n",
    "            test_x,test_y = readfile(fp)\n",
    "            pred = make_pred(prior,class_cond,test_x)\n",
    "            cm[pred][translate[test_y]]=cm[pred][translate[test_y]]+1\n",
    "            \n",
    "    return cm"
   ]
  },
  {
   "cell_type": "code",
   "execution_count": 148,
   "metadata": {},
   "outputs": [
    {
     "name": "stdout",
     "output_type": "stream",
     "text": [
      "Prior probabilities for 'e','j','s':\n",
      "[0.33333333 0.33333333 0.33333333]\n"
     ]
    }
   ],
   "source": [
    "# 2-1\n",
    "train_x,train_y = build_model(list(range(0,10)))\n",
    "prior,class_cond = calc_probs(train_x,train_y,.5)\n",
    "\n",
    "print(\"Prior probabilities for 'e','j','s':\")\n",
    "print(prior)"
   ]
  },
  {
   "cell_type": "code",
   "execution_count": 149,
   "metadata": {},
   "outputs": [
    {
     "name": "stdout",
     "output_type": "stream",
     "text": [
      "Class conditional probabilities given English:\n",
      "[0.06016851 0.01113497 0.02151    0.02197258 0.10536924 0.01893276\n",
      " 0.01747894 0.04721626 0.05541054 0.00142078 0.00373369 0.02897737\n",
      " 0.02051875 0.05792169 0.0644639  0.01675202 0.0005617  0.05382455\n",
      " 0.06618206 0.08012556 0.02666446 0.00928465 0.01549645 0.00115645\n",
      " 0.01384437 0.00062779 0.17924996]\n"
     ]
    }
   ],
   "source": [
    "# 2-2\n",
    "print(\"Class conditional probabilities given English:\")\n",
    "print(class_cond[0])"
   ]
  },
  {
   "cell_type": "code",
   "execution_count": 150,
   "metadata": {},
   "outputs": [
    {
     "name": "stdout",
     "output_type": "stream",
     "text": [
      "Class conditional probabilities given Japanese:\n",
      "[1.31765610e-01 1.08669066e-02 5.48586603e-03 1.72263182e-02\n",
      " 6.02047591e-02 3.87854223e-03 1.40116706e-02 3.17621161e-02\n",
      " 9.70334393e-02 2.34110207e-03 5.74094133e-02 1.43261470e-03\n",
      " 3.97987351e-02 5.67105769e-02 9.11632132e-02 8.73545547e-04\n",
      " 1.04825466e-04 4.28037318e-02 4.21747790e-02 5.69901115e-02\n",
      " 7.06174220e-02 2.44592753e-04 1.97421294e-02 3.49418219e-05\n",
      " 1.41514379e-02 7.72214263e-03 1.23449457e-01]\n",
      "\n",
      "Class conditional probabilities given Spanish:\n",
      "[1.04560451e-01 8.23286362e-03 3.75258241e-02 3.97459221e-02\n",
      " 1.13810860e-01 8.60287996e-03 7.18448398e-03 4.53270019e-03\n",
      " 4.98597021e-02 6.62945947e-03 2.77512257e-04 5.29431717e-02\n",
      " 2.58086399e-02 5.41765595e-02 7.24923684e-02 2.42669051e-02\n",
      " 7.67783910e-03 5.92951189e-02 6.57704049e-02 3.56140730e-02\n",
      " 3.37023219e-02 5.88942678e-03 9.25040856e-05 2.49761031e-03\n",
      " 7.86284728e-03 2.68261848e-03 1.68264932e-01]\n"
     ]
    }
   ],
   "source": [
    "# 2-3\n",
    "print(\"Class conditional probabilities given Japanese:\")\n",
    "print(class_cond[1])\n",
    "print()\n",
    "\n",
    "print(\"Class conditional probabilities given Spanish:\")\n",
    "print(class_cond[2])"
   ]
  },
  {
   "cell_type": "code",
   "execution_count": 151,
   "metadata": {},
   "outputs": [
    {
     "name": "stdout",
     "output_type": "stream",
     "text": [
      "Bag of characters vector for e10.txt:\n",
      "[164.  32.  53.  57. 311.  55.  51. 140. 140.   3.   6.  85.  64. 139.\n",
      " 182.  53.   3. 141. 186. 225.  65.  31.  47.   4.  38.   2. 498.]\n"
     ]
    }
   ],
   "source": [
    "# 2-4\n",
    "e10_x,e10_y = readfile(\"languageID/e10.txt\")\n",
    "print(\"Bag of characters vector for e10.txt:\")\n",
    "print(e10_x)"
   ]
  },
  {
   "cell_type": "code",
   "execution_count": 152,
   "metadata": {},
   "outputs": [
    {
     "name": "stdout",
     "output_type": "stream",
     "text": [
      "Log of predicted p(x|y) for e10.txt bag of characters and y='e','j','s':\n",
      "[-7841.86544706 -8771.43307908 -8467.28204401]\n"
     ]
    }
   ],
   "source": [
    "# 2-5\n",
    "preds = np.empty(3)\n",
    "for i in range(3):\n",
    "    logs=np.log(class_cond[i])\n",
    "    preds[i]=np.sum(np.multiply(logs,e10_x))\n",
    "print(\"Log of predicted p(x|y) for e10.txt bag of characters and y='e','j','s':\")\n",
    "print(preds)"
   ]
  },
  {
   "cell_type": "code",
   "execution_count": 154,
   "metadata": {},
   "outputs": [
    {
     "name": "stdout",
     "output_type": "stream",
     "text": [
      "Log of posterior, p(y|x) for e10.txt and y='e','j','s'. Scaling by p(x) not included.\n",
      "[-7842.96405935 -8772.53169136 -8468.3806563 ]\n",
      "\n",
      "Per this posterior, we predict 'e' as it maximizes the posterior over possible values for y.\n"
     ]
    }
   ],
   "source": [
    "# 2-6\n",
    "posterior = np.log(prior)+preds\n",
    "print(\"Log of posterior, p(y|x) for e10.txt and y='e','j','s'. Scaling by p(x) not included.\")\n",
    "print(posterior)\n",
    "print()\n",
    "print(\"Per this posterior, we predict 'e' as it maximizes the posterior over possible values for y.\")\n",
    "    "
   ]
  },
  {
   "cell_type": "code",
   "execution_count": 155,
   "metadata": {},
   "outputs": [
    {
     "name": "stdout",
     "output_type": "stream",
     "text": [
      "[[10.  0.  0.]\n",
      " [ 0. 10.  0.]\n",
      " [ 0.  0. 10.]]\n"
     ]
    }
   ],
   "source": [
    "# 2-7\n",
    "cm = run_test(prior,class_cond)\n",
    "\n",
    "print(cm)"
   ]
  },
  {
   "cell_type": "code",
   "execution_count": 10,
   "metadata": {},
   "outputs": [],
   "source": [
    "# 3\n",
    "from scipy.special import softmax,expit\n",
    "import torch,torchvision,random\n",
    "import torchvision.datasets as datasets\n",
    "mnist_trainset = datasets.MNIST(root='data',train=True,download=True,transform=None)\n",
    "\n",
    "def cross_entropy(y,yhat):\n",
    "    return -1*np.sum(y*np.log(yhat))\n",
    "\n",
    "def make_y(num):\n",
    "    #y = np.zeros(5)\n",
    "    y = np.zeros(10)\n",
    "    y[num]=1\n",
    "    return y\n",
    "\n",
    "class network():\n",
    "    def __init__(self,train_x,train_y,idx,train_intervals,alpha, epochs):\n",
    "        # Given sizes\n",
    "        self.d = 784\n",
    "        self.d1 = 300\n",
    "        self.d2 = 200\n",
    "        self.k = 10\n",
    "        rng = np.random.default_rng()\n",
    "\n",
    "        # Initialize network\n",
    "        self.alpha = alpha\n",
    "        self.W1 = rng.normal(loc=0,scale=0.1,size=(self.d1,self.d))\n",
    "        self.W2 = rng.normal(loc=0,scale=0.1,size=(self.d2,self.d1))\n",
    "        self.W3 = rng.normal(loc=0,scale=0.1,size=(self.k,self.d2))\n",
    "\n",
    "        #all_idx = list(range(len(train_x)))\n",
    "        #random.shuffle(all_idx)\n",
    "        #print(all_idx[0:train_num])\n",
    "        self.train(train_x,train_y,idx,train_intervals,epochs)\n",
    "\n",
    "    def forward_pass(self,x,y):\n",
    "        # Forward pass\n",
    "        #print(\"FORWARD PASS\")\n",
    "        z1 = np.matmul(self.W1,x)\n",
    "        a1 = expit(z1)\n",
    "        z2 = np.matmul(self.W2,a1)\n",
    "        a2 = expit(z2)\n",
    "        z3 = np.matmul(self.W3,a2)\n",
    "        #a3 = expit(z3)\n",
    "        s = softmax(z3)\n",
    "        pred = np.argmax(s)\n",
    "        l = cross_entropy(y,s)\n",
    "        # with np.printoptions(threshold=np.inf):\n",
    "        #     print(\"x\\n\",x)\n",
    "        #     print(\"W1\\n\",self.W1)\n",
    "        #     print(\"z1\\n\",z1)\n",
    "        #     print(\"a1\\n\",a1)\n",
    "        #     print(\"z2\\n\",z2)\n",
    "        #     print(\"a2\\n\",a2)\n",
    "        #     print(\"z3\\n\",z3)\n",
    "        #     print(\"a3\\n\",a3)\n",
    "        return a1,a2,s,l,pred\n",
    "    \n",
    "    def backward_pass(self,a1,a2,s,l,x,y):\n",
    "        # Backward pass\n",
    "        dlds = -1*y/s \n",
    "        #print(\"dlds\\n\", dlds)\n",
    "        # Rows refer to a3j while columns refer to Si\n",
    "        dsdz3 = np.empty((self.k,self.k))\n",
    "        for i in range(self.k):\n",
    "            for j in range(self.k):\n",
    "                if i==j:\n",
    "                    val=-1*s[i]*(s[j]-1)\n",
    "                else:\n",
    "                    val=-1*s[i]*s[j]\n",
    "                dsdz3[j][i] = val\n",
    "        #print(\"dsda3\\n\",dsda3)\n",
    "        dldz3 = np.matmul(dsdz3,dlds)\n",
    "        #print(\"dlda3\\n\",dlda3)\n",
    "        #dldw3 = np.empty((self.k,self.d2))\n",
    "        #print(\"a3\\n\",a3)\n",
    "        #print(\"1-a3\\n\",1-a3)\n",
    "        #for j in range(self.k):\n",
    "        #    for r in range(self.d2):\n",
    "        #        dldw3[j][r] = dlda3[j]*a3[j]*(1-a3[j])*a2[r]\n",
    "        dldw3 = np.outer(dldz3,a2)\n",
    "        #print(\"dldw3\\n\",dldw3)\n",
    "        #print(test)\n",
    "\n",
    "        #dlda2 = np.empty(self.d2)\n",
    "        #for r in range(self.d2):\n",
    "        #    it_val = 0\n",
    "        #    for j in range(self.k):\n",
    "        #        it_val+=dlda3[j]*a3[j]*(1-a3[j])*self.W3[j][r]\n",
    "        #    dlda2[r]=it_val\n",
    "        #print(dlda2)\n",
    "        dlda2 = np.matmul(self.W3.T,dldz3)\n",
    "\n",
    "        dldw2 = np.empty((self.d2,self.d1))\n",
    "        for r in range(self.d2):\n",
    "            for t in range(self.d1):\n",
    "                dldw2[r][t] = dlda2[r]*a2[r]*(1-a2[r])*a1[t]\n",
    "\n",
    "        #dlda1 = np.empty(self.d1)\n",
    "        #for t in range(self.d1):\n",
    "        #    it_val=0\n",
    "        #    for r in range(self.d2):\n",
    "        #        it_val+=dlda2[r]*a2[r]*(1-a2[r])*self.W2[r][t]\n",
    "        #    dlda1[t]=it_val\n",
    "        #print(dlda1)\n",
    "        dlda1=np.matmul(self.W2.T,dlda2*a2*(1-a2))\n",
    "        \n",
    "        #dldw1 = np.empty((self.d1,self.d))\n",
    "        #for t in range(self.d1):\n",
    "        #    for u in range(self.d):\n",
    "        #        dldw1[t][u] = dlda1[t]*a1[t]*(1-a1[t])*x[u]\n",
    "        #print(\"dldw1\\n\",dldw1)\n",
    "        dldw1 = np.outer(dlda1*a1*(1-a1),x)\n",
    "        #print(test)\n",
    "        #print(test.shape)\n",
    "        \n",
    "        # Gradient update\n",
    "        # with np.printoptions(threshold=np.inf):\n",
    "        #     #print(self.W3)\n",
    "        #     #print(self.alpha*dldw3)\n",
    "        #     print(\"dlds\\n\", dlds)\n",
    "        #     print(\"s\\n\",s)\n",
    "        #     print(\"dsda3\\n\",dsda3)\n",
    "        #     print(\"dlda3\\n\",dlda3)\n",
    "        #     print(\"a3\\n\",a3)\n",
    "        #     print(\"a2\\n\",a2)\n",
    "        #     print(\"dldw3\\n\",dldw3)\n",
    "\n",
    "        self.W3 = self.W3-self.alpha*dldw3\n",
    "        self.W2 = self.W2-self.alpha*dldw2\n",
    "        self.W1 = self.W1-self.alpha*dldw1\n",
    "\n",
    "    def print_weights(self):\n",
    "        print(\"W1:\\n\",self.W1)\n",
    "        print(\"W2:\\n\",self.W2)\n",
    "        print(\"W3:\\n\",self.W3)\n",
    "\n",
    "    def get_acc(self):\n",
    "        #print(self.train_accuracy)\n",
    "        #print(self.test_accuracy)\n",
    "        return self.train_accuracy,self.test_accuracy\n",
    "\n",
    "    def train(self,train_x,train_y,idx,train_intervals,epochs):\n",
    "        mnist_testset = datasets.MNIST(root='data',train=False,download=True,transform=None)\n",
    "        test_x = mnist_testset.data.numpy()/255\n",
    "        test_y = mnist_testset.targets.numpy()\n",
    "        self.train_accuracy=[]\n",
    "        self.test_accuracy=[]\n",
    "\n",
    "        #self.train_accuracy.append(0,\"init\")\n",
    "        #self.test_accuracy.append(self.eval(test_x,test_y))\n",
    "        for epoch in range(epochs):\n",
    "            last_interval = 0\n",
    "            for interval in train_intervals:\n",
    "                #print(last_interval)\n",
    "                #print(interval)\n",
    "                idx_list = idx[last_interval:(interval-1)]\n",
    "                for curr_idx in idx_list:\n",
    "                    # Get input\n",
    "                    x = train_x[curr_idx].flatten()\n",
    "                    #print(x.shape)\n",
    "                    #print(x)\n",
    "                    y = make_y(train_y[curr_idx])\n",
    "                    #print(x)\n",
    "                    a1,a2,s,l,pred = self.forward_pass(x,y)\n",
    "                    self.backward_pass(a1,a2,s,l,x,y)\n",
    "                #train_epoch_acc = self.eval(train_x[idx_list],train_y[idx_list],epoch)\n",
    "                test_epoch_acc = self.eval(test_x,test_y)\n",
    "                #self.train_accuracy.append(train_epoch_acc)\n",
    "                self.test_accuracy.append(test_epoch_acc)\n",
    "                last_interval=interval\n",
    "\n",
    "    def eval(self,test_x,test_y):\n",
    "        correct =0\n",
    "        for i in range(len(test_x)):\n",
    "            x = test_x[i]\n",
    "            y = test_y[i]\n",
    "            _,_,s,_,pred=self.forward_pass(x.flatten(),make_y(y))\n",
    "            correct+=int(y==pred)\n",
    "        return correct/len(test_x)\n",
    "        #print(\"Epoch {} correctly classified: {}\".format(epoch,correct))\n",
    "        \n"
   ]
  },
  {
   "cell_type": "code",
   "execution_count": 11,
   "metadata": {},
   "outputs": [],
   "source": [
    "# Organize training data\n",
    "train_x = mnist_trainset.data.numpy()/255\n",
    "train_y = mnist_trainset.targets.numpy()\n",
    "idx = list(range(len(train_x)))\n",
    "random.shuffle(idx)\n",
    "\n",
    "epochs = 1\n",
    "alpha=0.1\n",
    "\n",
    "train_intervals = [1000,2000,4000,8000,16000,32000,60000]\n",
    "nn = network(train_x,train_y,idx,train_intervals,alpha,epochs)\n",
    "_,test_acc=nn.get_acc()"
   ]
  },
  {
   "cell_type": "code",
   "execution_count": 13,
   "metadata": {},
   "outputs": [
    {
     "name": "stdout",
     "output_type": "stream",
     "text": [
      "[0.3384 0.1462 0.1556 0.1359 0.0758 0.0538 0.035 ]\n"
     ]
    }
   ],
   "source": [
    "print(1-np.array(test_acc))"
   ]
  },
  {
   "cell_type": "code",
   "execution_count": 12,
   "metadata": {},
   "outputs": [
    {
     "data": {
      "image/png": "[encoded data removed]",
      "text/plain": [
       "<Figure size 432x432 with 1 Axes>"
      ]
     },
     "metadata": {
      "needs_background": "light"
     },
     "output_type": "display_data"
    }
   ],
   "source": [
    "plt.figure(figsize=(6,6))\n",
    "plt.plot(train_intervals,test_acc,'r.-',label='Test Set Accuracy')\n",
    "ax =plt.gca()\n",
    "#ax.set_xlim(0,epochs+1)\n",
    "ax.set_ylim(0,1.1)\n",
    "ax.set_xlabel(\"Training Set Size\")\n",
    "ax.set_ylabel(\"Accuracy\")\n",
    "plt.legend()\n",
    "plt.xscale(\"log\")\n",
    "plt.savefig(\"homemade_learning.png\")"
   ]
  },
  {
   "cell_type": "code",
   "execution_count": 277,
   "metadata": {},
   "outputs": [],
   "source": [
    "# Create pytorch model for MNIST\n",
    "mnist_trainset = datasets.MNIST(root='data',train=True,download=True,transform=torchvision.transforms.ToTensor())\n",
    "mnist_testset = datasets.MNIST(root='data',train=False,download=True,transform=torchvision.transforms.ToTensor())\n",
    "train_loader = torch.utils.data.DataLoader(mnist_trainset,batch_size=50,shuffle=True) \n",
    "test_loader = torch.utils.data.DataLoader(mnist_testset,batch_size=1,shuffle=False)\n",
    "train_iterator = iter(train_loader)\n",
    "test_iterator = iter(test_loader)\n",
    "\n",
    "d = 784\n",
    "d1 = 300\n",
    "d2 = 200\n",
    "k = 10 \n",
    "train_intervals = [1000,2000,4000,8000,16000,32000,60000]\n",
    "np_train = np.array(train_intervals)"
   ]
  },
  {
   "cell_type": "code",
   "execution_count": 285,
   "metadata": {},
   "outputs": [
    {
     "name": "stdout",
     "output_type": "stream",
     "text": [
      "current interval:  1000.0 training points\n",
      "acc:  0.0982\n",
      "current interval:  2000.0 training points\n",
      "acc:  0.1163\n",
      "current interval:  4000.0 training points\n",
      "acc:  0.6014\n",
      "current interval:  8000.0 training points\n",
      "acc:  0.831\n",
      "current interval:  16000.0 training points\n",
      "acc:  0.8958\n",
      "current interval:  32000.0 training points\n",
      "acc:  0.9167\n",
      "current interval:  60000.0 training points\n",
      "acc:  0.9405\n"
     ]
    }
   ],
   "source": [
    "# 3-3\n",
    "pytorch_acc= []\n",
    "# Single training epoch\n",
    "for interval in np_train/50:\n",
    "    print(\"current interval: \",interval*50, \"training points\")\n",
    "    # Initialize network\n",
    "    pytorch_nn = torch.nn.Sequential(\n",
    "            torch.nn.Linear(d,d1), torch.nn.Sigmoid(),\n",
    "            torch.nn.Linear(d1,d2), torch.nn.Sigmoid(),\n",
    "            torch.nn.Linear(d2,k)\n",
    "            )\n",
    "    opt = torch.optim.SGD(pytorch_nn.parameters(), lr=0.1)\n",
    "    loss_fcn=torch.nn.CrossEntropyLoss()\n",
    "    # Run an initial evaluation\n",
    "    # correct=0\n",
    "    # for raw_test_image,test_label in test_loader:\n",
    "    #     flat_test_image = raw_test_image.flatten(start_dim=1)\n",
    "    #     with torch.no_grad():\n",
    "    #         pred=np.argmax(softmax(pytorch_nn(flat_test_image).numpy()[0]))\n",
    "    #         if pred==test_label.item():\n",
    "    #             correct+=1\n",
    "    #print(\"initial correct\",correct)\n",
    "\n",
    "    # Train for a series of epochs\n",
    "    for epoch in range(10):\n",
    "        for i,(raw_images,labels) in enumerate(train_loader):\n",
    "            flat_images = raw_images.flatten(start_dim=1)\n",
    "            opt.zero_grad()\n",
    "            preds = pytorch_nn(flat_images)\n",
    "            loss = loss_fcn(preds,labels)\n",
    "            loss.backward()\n",
    "            opt.step()\n",
    "            if (i+1)==interval:\n",
    "                break\n",
    "            #running_loss+=loss.item()\n",
    "            #loss_list.append(running_loss)\n",
    "\n",
    "    # plt.figure(figsize=(6,6))\n",
    "    # plt.plot(list(range(1200)),loss_list,'r.-')\n",
    "    # ax =plt.gca()\n",
    "    # #ax.set_xlim(0,epochs+1)\n",
    "    # #ax.set_ylim(0,1.1)\n",
    "    # ax.set_xlabel(\"Iteration\")\n",
    "    # ax.set_ylabel(\"Loss\")\n",
    "    correct=0\n",
    "    for raw_test_image,test_label in test_loader:\n",
    "        flat_test_image = raw_test_image.flatten(start_dim=1)\n",
    "        with torch.no_grad():\n",
    "            pred=np.argmax(softmax(pytorch_nn(flat_test_image).numpy()[0]))\n",
    "            if pred==test_label.item():\n",
    "                correct+=1\n",
    "    pytorch_acc.append(correct/10000)\n",
    "    print(\"acc: \",correct/10000)\n",
    "        #print(\"epoch: \",epoch, \"correct: \",correct)"
   ]
  },
  {
   "cell_type": "code",
   "execution_count": 289,
   "metadata": {},
   "outputs": [
    {
     "name": "stdout",
     "output_type": "stream",
     "text": [
      "[0.9018 0.8837 0.3986 0.169  0.1042 0.0833 0.0595]\n"
     ]
    }
   ],
   "source": [
    "print(1-np.array(pytorch_acc))"
   ]
  },
  {
   "cell_type": "code",
   "execution_count": 287,
   "metadata": {},
   "outputs": [
    {
     "data": {
      "image/png": "[encoded data removed]",
      "text/plain": [
       "<Figure size 432x432 with 1 Axes>"
      ]
     },
     "metadata": {
      "needs_background": "light"
     },
     "output_type": "display_data"
    }
   ],
   "source": [
    "plt.figure(figsize=(6,6))\n",
    "plt.plot(train_intervals,pytorch_acc,'r.-',label='Test Set Accuracy')\n",
    "ax =plt.gca()\n",
    "#ax.set_xlim(0,epochs+1)\n",
    "ax.set_ylim(0,1.1)\n",
    "ax.set_xlabel(\"Training Set Size\")\n",
    "ax.set_ylabel(\"Accuracy\")\n",
    "plt.legend()\n",
    "plt.xscale(\"log\")\n",
    "plt.savefig(\"pytorch_learning.png\")"
   ]
  },
  {
   "cell_type": "code",
   "execution_count": 296,
   "metadata": {},
   "outputs": [
    {
     "name": "stdout",
     "output_type": "stream",
     "text": [
      "current interval:  1000.0 training points\n",
      "acc:  0.0958\n",
      "current interval:  2000.0 training points\n",
      "acc:  0.0958\n",
      "current interval:  4000.0 training points\n",
      "acc:  0.1032\n",
      "current interval:  8000.0 training points\n",
      "acc:  0.0958\n",
      "current interval:  16000.0 training points\n",
      "acc:  0.2513\n",
      "current interval:  32000.0 training points\n",
      "acc:  0.3532\n",
      "current interval:  60000.0 training points\n",
      "acc:  0.3851\n"
     ]
    }
   ],
   "source": [
    "# 3-4\n",
    "pytorch_acc_0= []\n",
    "\n",
    "def init_constant(a):\n",
    "    if isinstance(a,torch.nn.Linear):\n",
    "        torch.nn.init.constant_(a.weight,0)\n",
    "        a.bias.data.fill_(0)\n",
    "\n",
    "# Single training epoch\n",
    "for interval in np_train/50:\n",
    "    print(\"current interval: \",interval*50, \"training points\")\n",
    "    # Initialize network\n",
    "    pytorch_nn = torch.nn.Sequential(\n",
    "            torch.nn.Linear(d,d1), torch.nn.Sigmoid(),\n",
    "            torch.nn.Linear(d1,d2), torch.nn.Sigmoid(),\n",
    "            torch.nn.Linear(d2,k)\n",
    "            )\n",
    "    pytorch_nn.apply(init_constant)\n",
    "    opt = torch.optim.SGD(pytorch_nn.parameters(), lr=0.1)\n",
    "    loss_fcn=torch.nn.CrossEntropyLoss()\n",
    "    # Run an initial evaluation\n",
    "    # correct=0\n",
    "    # for raw_test_image,test_label in test_loader:\n",
    "    #     flat_test_image = raw_test_image.flatten(start_dim=1)\n",
    "    #     with torch.no_grad():\n",
    "    #         pred=np.argmax(softmax(pytorch_nn(flat_test_image).numpy()[0]))\n",
    "    #         if pred==test_label.item():\n",
    "    #             correct+=1\n",
    "    #print(\"initial correct\",correct)\n",
    "\n",
    "    # Train for a series of epochs\n",
    "    for epoch in range(10):\n",
    "        for i,(raw_images,labels) in enumerate(train_loader):\n",
    "            flat_images = raw_images.flatten(start_dim=1)\n",
    "            opt.zero_grad()\n",
    "            preds = pytorch_nn(flat_images)\n",
    "            loss = loss_fcn(preds,labels)\n",
    "            loss.backward()\n",
    "            opt.step()\n",
    "            if (i+1)==interval:\n",
    "                break\n",
    "            #running_loss+=loss.item()\n",
    "            #loss_list.append(running_loss)\n",
    "\n",
    "    # plt.figure(figsize=(6,6))\n",
    "    # plt.plot(list(range(1200)),loss_list,'r.-')\n",
    "    # ax =plt.gca()\n",
    "    # #ax.set_xlim(0,epochs+1)\n",
    "    # #ax.set_ylim(0,1.1)\n",
    "    # ax.set_xlabel(\"Iteration\")\n",
    "    # ax.set_ylabel(\"Loss\")\n",
    "    correct=0\n",
    "    for raw_test_image,test_label in test_loader:\n",
    "        flat_test_image = raw_test_image.flatten(start_dim=1)\n",
    "        with torch.no_grad():\n",
    "            pred=np.argmax(softmax(pytorch_nn(flat_test_image).numpy()[0]))\n",
    "            if pred==test_label.item():\n",
    "                correct+=1\n",
    "    pytorch_acc_0.append(correct/10000)\n",
    "    print(\"acc: \",correct/10000)\n",
    "        #print(\"epoch: \",epoch, \"correct: \",correct)"
   ]
  },
  {
   "cell_type": "code",
   "execution_count": 297,
   "metadata": {},
   "outputs": [
    {
     "name": "stdout",
     "output_type": "stream",
     "text": [
      "current interval:  1000.0 training points\n",
      "acc:  0.7354\n",
      "current interval:  2000.0 training points\n",
      "acc:  0.822\n",
      "current interval:  4000.0 training points\n",
      "acc:  0.863\n",
      "current interval:  8000.0 training points\n",
      "acc:  0.8941\n",
      "current interval:  16000.0 training points\n",
      "acc:  0.918\n",
      "current interval:  32000.0 training points\n",
      "acc:  0.9332\n",
      "current interval:  60000.0 training points\n",
      "acc:  0.9446\n"
     ]
    }
   ],
   "source": [
    "pytorch_acc_u= []\n",
    "\n",
    "def init_uni(a):\n",
    "    if isinstance(a,torch.nn.Linear):\n",
    "        torch.nn.init.uniform_(a.weight,-1,1)\n",
    "\n",
    "for interval in np_train/50:\n",
    "    print(\"current interval: \",interval*50, \"training points\")\n",
    "    # Initialize network\n",
    "    pytorch_nn = torch.nn.Sequential(\n",
    "            torch.nn.Linear(d,d1), torch.nn.Sigmoid(),\n",
    "            torch.nn.Linear(d1,d2), torch.nn.Sigmoid(),\n",
    "            torch.nn.Linear(d2,k)\n",
    "            )\n",
    "    pytorch_nn.apply(init_uni)\n",
    "    opt = torch.optim.SGD(pytorch_nn.parameters(), lr=0.1)\n",
    "    loss_fcn=torch.nn.CrossEntropyLoss()\n",
    "\n",
    "    # Train for a series of epochs\n",
    "    for epoch in range(10):\n",
    "        for i,(raw_images,labels) in enumerate(train_loader):\n",
    "            flat_images = raw_images.flatten(start_dim=1)\n",
    "            opt.zero_grad()\n",
    "            preds = pytorch_nn(flat_images)\n",
    "            loss = loss_fcn(preds,labels)\n",
    "            loss.backward()\n",
    "            opt.step()\n",
    "            if (i+1)==interval:\n",
    "                break\n",
    "    correct=0\n",
    "    for raw_test_image,test_label in test_loader:\n",
    "        flat_test_image = raw_test_image.flatten(start_dim=1)\n",
    "        with torch.no_grad():\n",
    "            pred=np.argmax(softmax(pytorch_nn(flat_test_image).numpy()[0]))\n",
    "            if pred==test_label.item():\n",
    "                correct+=1\n",
    "    pytorch_acc_u.append(correct/10000)\n",
    "    print(\"acc: \",correct/10000)"
   ]
  },
  {
   "cell_type": "code",
   "execution_count": 298,
   "metadata": {},
   "outputs": [
    {
     "name": "stdout",
     "output_type": "stream",
     "text": [
      "[0.9042 0.9042 0.8968 0.9042 0.7487 0.6468 0.6149]\n",
      "[0.2646 0.178  0.137  0.1059 0.082  0.0668 0.0554]\n"
     ]
    },
    {
     "data": {
      "image/png": "[encoded data removed]",
      "text/plain": [
       "<Figure size 432x432 with 1 Axes>"
      ]
     },
     "metadata": {
      "needs_background": "light"
     },
     "output_type": "display_data"
    }
   ],
   "source": [
    "print(1-np.array(pytorch_acc_0))\n",
    "print(1-np.array(pytorch_acc_u))\n",
    "plt.figure(figsize=(6,6))\n",
    "plt.plot(train_intervals,pytorch_acc_0,'r.-',label='Test Set Accuracy - 0 init')\n",
    "plt.plot(train_intervals,pytorch_acc_u,'b.-',label='Test Set Accuracy - U(-1,1) init')\n",
    "ax =plt.gca()\n",
    "#ax.set_xlim(0,epochs+1)\n",
    "ax.set_ylim(0,1.1)\n",
    "ax.set_xlabel(\"Training Set Size\")\n",
    "ax.set_ylabel(\"Accuracy\")\n",
    "plt.legend()\n",
    "plt.xscale(\"log\")\n",
    "plt.savefig(\"pytorch_learning_weight.png\")"
   ]
  }
 ],
 "metadata": {
  "kernelspec": {
   "display_name": "Python 3",
   "language": "python",
   "name": "python3"
  },
  "language_info": {
   "codemirror_mode": {
    "name": "ipython",
    "version": 3
   },
   "file_extension": ".py",
   "mimetype": "text/x-python",
   "name": "python",
   "nbconvert_exporter": "python",
   "pygments_lexer": "ipython3",
   "version": "3.10.4"
  },
  "orig_nbformat": 4
 },
 "nbformat": 4,
 "nbformat_minor": 2
}
