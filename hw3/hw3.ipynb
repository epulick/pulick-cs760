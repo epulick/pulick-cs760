{
 "cells": [
  {
   "cell_type": "code",
   "execution_count": 1,
   "metadata": {},
   "outputs": [],
   "source": [
    "# Eric Pulick - CS760 HW3"
   ]
  },
  {
   "cell_type": "code",
   "execution_count": 2,
   "metadata": {},
   "outputs": [],
   "source": [
    "import matplotlib.pyplot as plt\n",
    "import numpy as np\n",
    "import pandas as pd\n",
    "from sklearn.neighbors import KNeighborsClassifier\n",
    "from sklearn.metrics import confusion_matrix, ConfusionMatrixDisplay, roc_curve, roc_auc_score\n",
    "from scipy.special import expit"
   ]
  },
  {
   "cell_type": "code",
   "execution_count": 3,
   "metadata": {},
   "outputs": [
    {
     "data": {
      "image/png": "[encoded data removed]",
      "text/plain": [
       "<Figure size 432x432 with 1 Axes>"
      ]
     },
     "metadata": {
      "needs_background": "light"
     },
     "output_type": "display_data"
    }
   ],
   "source": [
    "#1-5a\n",
    "tpr = [0,1/6,2/6,2/6,3/6,4/6,4/6,5/6,1,1,1]\n",
    "fpr = [0,0,0,1/4,1/4,1/4,2/4,2/4,2/4,3/4,1]\n",
    "\n",
    "plt.figure(figsize=(6,6))\n",
    "plt.plot(fpr,tpr,'bo-',drawstyle='steps-pre')\n",
    "ax =plt.gca()\n",
    "ax.set_xlim(0,1.1)\n",
    "ax.set_ylim(0,1.1)\n",
    "ax.set_xlabel(\"False Positive Rate\")\n",
    "ax.set_ylabel(\"True Positive Rate\")\n",
    "\n",
    "plt.savefig(\"5a.png\")"
   ]
  },
  {
   "cell_type": "code",
   "execution_count": 4,
   "metadata": {},
   "outputs": [
    {
     "data": {
      "image/png": "[encoded data removed]",
      "text/plain": [
       "<Figure size 432x432 with 1 Axes>"
      ]
     },
     "metadata": {
      "needs_background": "light"
     },
     "output_type": "display_data"
    }
   ],
   "source": [
    "#2-1\n",
    "# Load data\n",
    "fp = \"data/D2z.txt\"\n",
    "data = np.loadtxt(fp)\n",
    "# Split into x and y\n",
    "train_x = data[:,:2]\n",
    "train_y = data[:,2]\n",
    "\n",
    "# Make and fit classifier\n",
    "neigh1 = KNeighborsClassifier(n_neighbors=1,p=2)\n",
    "neigh1.fit(train_x,train_y)\n",
    "\n",
    "# Make grid array\n",
    "start = -2\n",
    "stop = 2.1\n",
    "step = .1\n",
    "x = np.arange(start,stop,step)\n",
    "y = np.arange(start,stop,step)\n",
    "grid_data = np.transpose([np.tile(x,len(y)),np.repeat(y,len(x))])\n",
    "grid_label = neigh1.predict(grid_data)\n",
    "\n",
    "fig = plt.figure(figsize=(6,6))\n",
    "plt.plot(train_x[:,0][train_y==1],train_x[:,1][train_y==1],'r+')\n",
    "plt.plot(train_x[:,0][train_y==0],train_x[:,1][train_y==0],'b+')\n",
    "plt.plot(grid_data[:,0][grid_label==1],grid_data[:,1][grid_label==1],'r.')\n",
    "plt.plot(grid_data[:,0][grid_label==0],grid_data[:,1][grid_label==0],'b.')\n",
    "plt.savefig('2_1.png')"
   ]
  },
  {
   "cell_type": "code",
   "execution_count": 5,
   "metadata": {},
   "outputs": [
    {
     "data": {
      "text/html": [
       "<div>\n",
       "<style scoped>\n",
       "    .dataframe tbody tr th:only-of-type {\n",
       "        vertical-align: middle;\n",
       "    }\n",
       "\n",
       "    .dataframe tbody tr th {\n",
       "        vertical-align: top;\n",
       "    }\n",
       "\n",
       "    .dataframe thead th {\n",
       "        text-align: right;\n",
       "    }\n",
       "</style>\n",
       "<table border=\"1\" class=\"dataframe\">\n",
       "  <thead>\n",
       "    <tr style=\"text-align: right;\">\n",
       "      <th></th>\n",
       "      <th>the</th>\n",
       "      <th>to</th>\n",
       "      <th>ect</th>\n",
       "      <th>and</th>\n",
       "      <th>for</th>\n",
       "      <th>of</th>\n",
       "      <th>a</th>\n",
       "      <th>you</th>\n",
       "      <th>hou</th>\n",
       "      <th>in</th>\n",
       "      <th>...</th>\n",
       "      <th>enhancements</th>\n",
       "      <th>connevey</th>\n",
       "      <th>jay</th>\n",
       "      <th>valued</th>\n",
       "      <th>lay</th>\n",
       "      <th>infrastructure</th>\n",
       "      <th>military</th>\n",
       "      <th>allowing</th>\n",
       "      <th>ff</th>\n",
       "      <th>dry</th>\n",
       "    </tr>\n",
       "  </thead>\n",
       "  <tbody>\n",
       "    <tr>\n",
       "      <th>0</th>\n",
       "      <td>0</td>\n",
       "      <td>0</td>\n",
       "      <td>1</td>\n",
       "      <td>0</td>\n",
       "      <td>0</td>\n",
       "      <td>0</td>\n",
       "      <td>2</td>\n",
       "      <td>0</td>\n",
       "      <td>0</td>\n",
       "      <td>0</td>\n",
       "      <td>...</td>\n",
       "      <td>0</td>\n",
       "      <td>0</td>\n",
       "      <td>0</td>\n",
       "      <td>0</td>\n",
       "      <td>0</td>\n",
       "      <td>0</td>\n",
       "      <td>0</td>\n",
       "      <td>0</td>\n",
       "      <td>0</td>\n",
       "      <td>0</td>\n",
       "    </tr>\n",
       "    <tr>\n",
       "      <th>1</th>\n",
       "      <td>8</td>\n",
       "      <td>13</td>\n",
       "      <td>24</td>\n",
       "      <td>6</td>\n",
       "      <td>6</td>\n",
       "      <td>2</td>\n",
       "      <td>102</td>\n",
       "      <td>1</td>\n",
       "      <td>27</td>\n",
       "      <td>18</td>\n",
       "      <td>...</td>\n",
       "      <td>0</td>\n",
       "      <td>0</td>\n",
       "      <td>0</td>\n",
       "      <td>0</td>\n",
       "      <td>0</td>\n",
       "      <td>0</td>\n",
       "      <td>0</td>\n",
       "      <td>0</td>\n",
       "      <td>1</td>\n",
       "      <td>0</td>\n",
       "    </tr>\n",
       "    <tr>\n",
       "      <th>2</th>\n",
       "      <td>0</td>\n",
       "      <td>0</td>\n",
       "      <td>1</td>\n",
       "      <td>0</td>\n",
       "      <td>0</td>\n",
       "      <td>0</td>\n",
       "      <td>8</td>\n",
       "      <td>0</td>\n",
       "      <td>0</td>\n",
       "      <td>4</td>\n",
       "      <td>...</td>\n",
       "      <td>0</td>\n",
       "      <td>0</td>\n",
       "      <td>0</td>\n",
       "      <td>0</td>\n",
       "      <td>0</td>\n",
       "      <td>0</td>\n",
       "      <td>0</td>\n",
       "      <td>0</td>\n",
       "      <td>0</td>\n",
       "      <td>0</td>\n",
       "    </tr>\n",
       "    <tr>\n",
       "      <th>3</th>\n",
       "      <td>0</td>\n",
       "      <td>5</td>\n",
       "      <td>22</td>\n",
       "      <td>0</td>\n",
       "      <td>5</td>\n",
       "      <td>1</td>\n",
       "      <td>51</td>\n",
       "      <td>2</td>\n",
       "      <td>10</td>\n",
       "      <td>1</td>\n",
       "      <td>...</td>\n",
       "      <td>0</td>\n",
       "      <td>0</td>\n",
       "      <td>0</td>\n",
       "      <td>0</td>\n",
       "      <td>0</td>\n",
       "      <td>0</td>\n",
       "      <td>0</td>\n",
       "      <td>0</td>\n",
       "      <td>0</td>\n",
       "      <td>0</td>\n",
       "    </tr>\n",
       "    <tr>\n",
       "      <th>4</th>\n",
       "      <td>7</td>\n",
       "      <td>6</td>\n",
       "      <td>17</td>\n",
       "      <td>1</td>\n",
       "      <td>5</td>\n",
       "      <td>2</td>\n",
       "      <td>57</td>\n",
       "      <td>0</td>\n",
       "      <td>9</td>\n",
       "      <td>3</td>\n",
       "      <td>...</td>\n",
       "      <td>0</td>\n",
       "      <td>0</td>\n",
       "      <td>0</td>\n",
       "      <td>0</td>\n",
       "      <td>0</td>\n",
       "      <td>0</td>\n",
       "      <td>0</td>\n",
       "      <td>0</td>\n",
       "      <td>1</td>\n",
       "      <td>0</td>\n",
       "    </tr>\n",
       "  </tbody>\n",
       "</table>\n",
       "<p>5 rows × 3000 columns</p>\n",
       "</div>"
      ],
      "text/plain": [
       "   the  to  ect  and  for  of    a  you  hou  in  ...  enhancements  connevey  \\\n",
       "0    0   0    1    0    0   0    2    0    0   0  ...             0         0   \n",
       "1    8  13   24    6    6   2  102    1   27  18  ...             0         0   \n",
       "2    0   0    1    0    0   0    8    0    0   4  ...             0         0   \n",
       "3    0   5   22    0    5   1   51    2   10   1  ...             0         0   \n",
       "4    7   6   17    1    5   2   57    0    9   3  ...             0         0   \n",
       "\n",
       "   jay  valued  lay  infrastructure  military  allowing  ff  dry  \n",
       "0    0       0    0               0         0         0   0    0  \n",
       "1    0       0    0               0         0         0   1    0  \n",
       "2    0       0    0               0         0         0   0    0  \n",
       "3    0       0    0               0         0         0   0    0  \n",
       "4    0       0    0               0         0         0   1    0  \n",
       "\n",
       "[5 rows x 3000 columns]"
      ]
     },
     "execution_count": 5,
     "metadata": {},
     "output_type": "execute_result"
    }
   ],
   "source": [
    "#2-2\n",
    "# Load data\n",
    "fp = \"data/emails.csv\"\n",
    "data = pd.read_csv(fp)\n",
    "label = data.Prediction.copy()\n",
    "data.drop(['Email No.','Prediction'],inplace=True,axis=1)\n",
    "data.head()"
   ]
  },
  {
   "cell_type": "code",
   "execution_count": 7,
   "metadata": {},
   "outputs": [
    {
     "name": "stdout",
     "output_type": "stream",
     "text": [
      "Fold 0, Acc 0.825, Prec 0.6544943820224719, Rec 0.8175438596491228\n",
      "Fold 1, Acc 0.853, Prec 0.6857142857142857, Rec 0.8664259927797834\n",
      "Fold 2, Acc 0.862, Prec 0.7212121212121212, Rec 0.8380281690140845\n",
      "Fold 3, Acc 0.851, Prec 0.7164179104477612, Rec 0.8163265306122449\n",
      "Fold 4, Acc 0.775, Prec 0.6057441253263708, Rec 0.7581699346405228\n"
     ]
    }
   ],
   "source": [
    "# Get folds\n",
    "idx = np.arange(0,5000,1)\n",
    "five_test_splits = [\n",
    "    np.arange(0,1000,1),\n",
    "    np.arange(1000,2000,1),\n",
    "    np.arange(2000,3000,1),\n",
    "    np.arange(3000,4000,1),\n",
    "    np.arange(4000,5000,1)\n",
    "]\n",
    "for i,test_index in enumerate(five_test_splits):\n",
    "    train_index = [x for x in idx if x not in test_index]\n",
    "    train_x = data.iloc[train_index]\n",
    "    train_y = label.iloc[train_index]\n",
    "    test_x = data.iloc[test_index]\n",
    "    test_y = label.iloc[test_index]\n",
    "\n",
    "    # Make and fit classifier\n",
    "    neigh1 = KNeighborsClassifier(n_neighbors=1,p=2)\n",
    "    neigh1.fit(train_x,train_y)\n",
    "    preds = neigh1.predict(test_x)\n",
    "\n",
    "    # Get metrics\n",
    "    cm = confusion_matrix(test_y,preds)\n",
    "    \n",
    "    TN = cm[0,0]\n",
    "    FN = cm[1,0]\n",
    "    FP = cm[0,1]\n",
    "    TP = cm[1,1]\n",
    "    acc = (TN+TP)/(TN+TP+FN+FP)\n",
    "    rec = (TP)/(TP+FN)\n",
    "    prec = (TP)/(TP+FP)\n",
    "    print(\"Fold {}, Acc {}, Prec {}, Rec {}\".format(i, acc, prec, rec))\n",
    "    #disp=ConfusionMatrixDisplay(cm) \n",
    "    #disp.plot()\n",
    "    #plt.show\n"
   ]
  },
  {
   "cell_type": "code",
   "execution_count": 8,
   "metadata": {},
   "outputs": [],
   "source": [
    "def get_grad_loss(theta,x,y):\n",
    "    z = np.dot(theta,x)\n",
    "    #print(z)\n",
    "    sig = expit(z)\n",
    "    #print(sig)\n",
    "    #print(\"x\",x.shape)\n",
    "    #print(\"y\",y.shape)\n",
    "    #print(\"sig\", sig.shape)\n",
    "    return x*(sig-y)\n",
    "\n",
    "def log_pred(theta,x):\n",
    "    r=np.dot(theta,x)\n",
    "    return expit(r)"
   ]
  },
  {
   "cell_type": "code",
   "execution_count": 9,
   "metadata": {},
   "outputs": [],
   "source": [
    "def train_log(lr, steps, data, train_index):\n",
    "    theta = np.zeros(data.shape[1])\n",
    "    for step in np.arange(0,steps,1):\n",
    "        sum=0\n",
    "        for i in train_index:\n",
    "            x_data = data.iloc[i].values\n",
    "            y_label = label.iloc[i]\n",
    "            sum+=get_grad_loss(theta,x_data,y_label)\n",
    "        grad_loss = sum/len(train_index)\n",
    "        theta = theta - lr*grad_loss\n",
    "    return theta"
   ]
  },
  {
   "cell_type": "code",
   "execution_count": 12,
   "metadata": {},
   "outputs": [
    {
     "name": "stdout",
     "output_type": "stream",
     "text": [
      "Fold 0, Acc 0.9, Prec 0.8178694158075601, Rec 0.8350877192982457\n",
      "0.954596981965403\n",
      "Fold 1, Acc 0.898, Prec 0.8048780487804879, Rec 0.8339350180505415\n",
      "0.9611326652386017\n",
      "Fold 2, Acc 0.891, Prec 0.8571428571428571, Rec 0.7394366197183099\n",
      "0.9647248013218979\n",
      "Fold 3, Acc 0.861, Prec 0.8743961352657005, Rec 0.6156462585034014\n",
      "0.9286388776473763\n",
      "Fold 4, Acc 0.844, Prec 0.7906976744186046, Rec 0.6666666666666666\n",
      "0.9229106628242075\n"
     ]
    }
   ],
   "source": [
    "for i,test_index in enumerate(five_test_splits):\n",
    "    train_index = [x for x in idx if x not in test_index]\n",
    "    train_x = data.iloc[train_index]\n",
    "    train_y = label.iloc[train_index]\n",
    "    test_x = data.iloc[test_index]\n",
    "    test_y = label.iloc[test_index]\n",
    "\n",
    "    # Make and fit classifier\n",
    "    params = train_log(0.00075,1000,data,train_index)\n",
    "    log_pred_proba = []\n",
    "    log_pred_final = []\n",
    "    for j in test_index:\n",
    "        x_data = data.iloc[j].values\n",
    "        pred = log_pred(params,x_data)\n",
    "        log_pred_proba.append(pred)\n",
    "        if pred>=0.5:\n",
    "            log_pred_final.append(1)\n",
    "        else:\n",
    "            log_pred_final.append(0)\n",
    "\n",
    "    # Get metrics\n",
    "    cm = confusion_matrix(test_y,log_pred_final)\n",
    "    \n",
    "    TN = cm[0,0]\n",
    "    FN = cm[1,0]\n",
    "    FP = cm[0,1]\n",
    "    TP = cm[1,1]\n",
    "    acc = (TN+TP)/(TN+TP+FN+FP)\n",
    "    rec = (TP)/(TP+FN)\n",
    "    prec = (TP)/(TP+FP)\n",
    "    print(\"Fold {}, Acc {}, Prec {}, Rec {}\".format(i, acc, prec, rec))\n",
    "    print(roc_auc_score(test_y,log_pred_proba))"
   ]
  },
  {
   "cell_type": "code",
   "execution_count": 80,
   "metadata": {},
   "outputs": [
    {
     "data": {
      "text/plain": [
       "<matplotlib.legend.Legend at 0x157efcc70>"
      ]
     },
     "execution_count": 80,
     "metadata": {},
     "output_type": "execute_result"
    },
    {
     "data": {
      "image/png": "[encoded data removed]",
      "text/plain": [
       "<Figure size 432x432 with 1 Axes>"
      ]
     },
     "metadata": {
      "needs_background": "light"
     },
     "output_type": "display_data"
    }
   ],
   "source": [
    "#2-4\n",
    "test_index = np.arange(0,1000,1)\n",
    "train_index = [x for x in idx if x not in test_index]\n",
    "#print(len(train_index))\n",
    "\n",
    "# train_x = data.iloc[train_index]\n",
    "train_y = label.iloc[train_index]\n",
    "# test_x = data.iloc[test_index]\n",
    "# test_y = label.iloc[test_index]\n",
    "\n",
    "theta = np.zeros(data.shape[1])\n",
    "lr_set = [0.001,0.0005]\n",
    "auc_dict = {}\n",
    "for lr in lr_set:\n",
    "    auc = []\n",
    "    steps = np.arange(0,1000,1)\n",
    "    for step in steps:\n",
    "        train_preds = []\n",
    "        sum=0\n",
    "        for i in train_index:\n",
    "            \n",
    "            x_data = data.iloc[i].values\n",
    "            y_label = label.iloc[i]\n",
    "\n",
    "            train_preds.append(log_pred(theta,x_data))\n",
    "            #print(x_data.shape)\n",
    "            #print(theta.shape)\n",
    "            #print(get_grad_loss(theta,x_data,y_label))\n",
    "            sum+=get_grad_loss(theta,x_data,y_label)\n",
    "\n",
    "        grad_loss = sum/len(train_index)\n",
    "        theta = theta - lr*grad_loss\n",
    "        auc.append(roc_auc_score(train_y,train_preds))\n",
    "    auc_dict[lr]=auc\n",
    "\n",
    "fig=plt.figure(figsize=(6,6))\n",
    "\n",
    "for lr in lr_set:\n",
    "    lr_auc = auc_dict[lr]\n",
    "    plt.plot(steps, lr_auc,label=lr)\n",
    "\n",
    "ax = plt.gca()\n",
    "ax.set_xlabel(\"Steps of gradient descent\")\n",
    "ax.set_ylabel(\"AUC on training set\")\n",
    "ax.legend()"
   ]
  },
  {
   "cell_type": "code",
   "execution_count": 13,
   "metadata": {},
   "outputs": [
    {
     "name": "stdout",
     "output_type": "stream",
     "text": [
      "K= 1\n",
      "0 0.825 0.6544943820224719 0.8175438596491228\n",
      "1 0.853 0.6857142857142857 0.8664259927797834\n",
      "2 0.862 0.7212121212121212 0.8380281690140845\n",
      "3 0.851 0.7164179104477612 0.8163265306122449\n",
      "4 0.775 0.6057441253263708 0.7581699346405228\n",
      "K= 3\n",
      "0 0.847 0.680327868852459 0.8736842105263158\n",
      "1 0.851 0.6975308641975309 0.8158844765342961\n",
      "2 0.859 0.7227414330218068 0.8169014084507042\n",
      "3 0.88 0.7788461538461539 0.826530612244898\n",
      "4 0.774 0.6086956521739131 0.7320261437908496\n",
      "K= 5\n",
      "0 0.837 0.6685082872928176 0.8491228070175438\n",
      "1 0.85 0.7068403908794788 0.7833935018050542\n",
      "2 0.869 0.7475728155339806 0.8133802816901409\n",
      "3 0.869 0.7620578778135049 0.8061224489795918\n",
      "4 0.779 0.613941018766756 0.7483660130718954\n",
      "K= 7\n",
      "0 0.839 0.6712707182320442 0.8526315789473684\n",
      "1 0.864 0.7252396166134185 0.8194945848375451\n",
      "2 0.875 0.7556270096463023 0.8274647887323944\n",
      "3 0.874 0.7781456953642384 0.7993197278911565\n",
      "4 0.779 0.6145552560646901 0.7450980392156863\n",
      "K= 10\n",
      "0 0.862 0.7318611987381703 0.8140350877192982\n",
      "1 0.869 0.75 0.7906137184115524\n",
      "2 0.878 0.7852112676056338 0.7852112676056338\n",
      "3 0.887 0.8267148014440433 0.7789115646258503\n",
      "4 0.782 0.6317365269461078 0.6895424836601307\n",
      "[0.8332, 0.8422000000000001, 0.8408, 0.8462, 0.8556000000000001]\n"
     ]
    },
    {
     "data": {
      "image/png": "[encoded data removed]",
      "text/plain": [
       "<Figure size 432x432 with 1 Axes>"
      ]
     },
     "metadata": {
      "needs_background": "light"
     },
     "output_type": "display_data"
    }
   ],
   "source": [
    "#2-4\n",
    "k_list = [1,3,5,7,10]\n",
    "acc_k = []\n",
    "for k in k_list:\n",
    "    print(\"K=\",k)\n",
    "    acc_list =[]\n",
    "    for i,test_index in enumerate(five_test_splits):\n",
    "        train_index = [x for x in idx if x not in test_index]\n",
    "        train_x = data.iloc[train_index]\n",
    "        train_y = label.iloc[train_index]\n",
    "        test_x = data.iloc[test_index]\n",
    "        test_y = label.iloc[test_index]\n",
    "\n",
    "        # Make and fit classifier\n",
    "        neigh = KNeighborsClassifier(n_neighbors=k,p=2)\n",
    "        neigh.fit(train_x,train_y)\n",
    "        preds = neigh.predict(test_x)\n",
    "\n",
    "        # Get metrics\n",
    "        cm = confusion_matrix(test_y,preds)\n",
    "        \n",
    "        TN = cm[0,0]\n",
    "        FN = cm[1,0]\n",
    "        FP = cm[0,1]\n",
    "        TP = cm[1,1]\n",
    "        acc = (TN+TP)/(TN+TP+FN+FP)\n",
    "        rec = (TP)/(TP+FN)\n",
    "        prec = (TP)/(TP+FP)\n",
    "        acc_list.append(acc)\n",
    "        print(i, acc, prec, rec)\n",
    "    avg_acc = np.mean(acc_list)\n",
    "    acc_k.append(avg_acc)\n",
    "print(acc_k)\n",
    "fig = plt.figure(figsize=(6,6))\n",
    "plt.plot(k_list,acc_k,'ro-')\n",
    "ax=plt.gca()\n",
    "ax.set_xlabel('k value (Number of neighbors)')\n",
    "ax.set_ylabel('Accuracy')\n",
    "plt.savefig('2_4.png')"
   ]
  },
  {
   "cell_type": "code",
   "execution_count": 11,
   "metadata": {},
   "outputs": [
    {
     "data": {
      "text/plain": [
       "4000    1\n",
       "4001    0\n",
       "4002    0\n",
       "4003    1\n",
       "4004    0\n",
       "Name: Prediction, dtype: int64"
      ]
     },
     "execution_count": 11,
     "metadata": {},
     "output_type": "execute_result"
    }
   ],
   "source": [
    "test_y.head()"
   ]
  },
  {
   "cell_type": "code",
   "execution_count": 16,
   "metadata": {},
   "outputs": [],
   "source": [
    "#2-5\n",
    "\n",
    "test_index = np.arange(4000,5000,1)\n",
    "train_index = [x for x in idx if x not in test_index]\n",
    "\n",
    "train_x = data.iloc[train_index]\n",
    "train_y = label.iloc[train_index]\n",
    "test_x = data.iloc[test_index]\n",
    "test_y = label.iloc[test_index]\n",
    "\n",
    "# Make and fit classifier\n",
    "neigh5 = KNeighborsClassifier(n_neighbors=5,p=2)\n",
    "neigh5.fit(train_x,train_y)\n",
    "preds_prob = neigh.predict_proba(test_x)\n",
    "\n",
    "log_params = train_log(0.00075,5000,data,train_index)\n",
    "log_pred_proba = []\n",
    "\n",
    "for j in test_index:\n",
    "    x_data = data.iloc[j].values\n",
    "    pred = log_pred(log_params,x_data)\n",
    "    log_pred_proba.append(pred)\n",
    "\n",
    "fpr, tpr, thresholds = roc_curve(test_y,preds_prob[:,1])\n",
    "fpr_log, tpr_log, thresholds_log = roc_curve(test_y,log_pred_proba)\n",
    "\n"
   ]
  },
  {
   "cell_type": "code",
   "execution_count": 17,
   "metadata": {},
   "outputs": [
    {
     "data": {
      "image/png": "[encoded data removed]",
      "text/plain": [
       "<Figure size 432x432 with 1 Axes>"
      ]
     },
     "metadata": {
      "needs_background": "light"
     },
     "output_type": "display_data"
    }
   ],
   "source": [
    "fig = plt.figure(figsize=(6,6))\n",
    "plt.plot(fpr,tpr,label=\"kNN, AUC: {:.3f}\".format(roc_auc_score(test_y,preds_prob[:,1])))\n",
    "plt.plot(fpr_log, tpr_log, label=\"Log. Reg., AUC: {:.3f}\".format(roc_auc_score(test_y,log_pred_proba)))\n",
    "ax = plt.gca()\n",
    "ax.set_xlabel(\"False Positive Rate\")\n",
    "ax.set_ylabel(\"True Positive Rate\")\n",
    "ax.legend()\n",
    "plt.savefig('2_5.png')"
   ]
  }
 ],
 "metadata": {
  "kernelspec": {
   "display_name": "Python 3",
   "language": "python",
   "name": "python3"
  },
  "language_info": {
   "codemirror_mode": {
    "name": "ipython",
    "version": 3
   },
   "file_extension": ".py",
   "mimetype": "text/x-python",
   "name": "python",
   "nbconvert_exporter": "python",
   "pygments_lexer": "ipython3",
   "version": "3.10.4"
  },
  "orig_nbformat": 4,
  "vscode": {
   "interpreter": {
    "hash": "aee8b7b246df8f9039afb4144a1f6fd8d2ca17a180786b69acc140d282b71a49"
   }
  }
 },
 "nbformat": 4,
 "nbformat_minor": 2
}
